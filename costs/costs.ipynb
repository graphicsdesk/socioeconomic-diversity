{
 "cells": [
  {
   "cell_type": "code",
   "execution_count": 1,
   "metadata": {},
   "outputs": [],
   "source": [
    "import pandas as pd\n",
    "import numpy as np\n",
    "import json"
   ]
  },
  {
   "cell_type": "code",
   "execution_count": 2,
   "metadata": {},
   "outputs": [],
   "source": [
    "total_costs = pd.ExcelFile('../data/Data - Consolidated.xlsx')\n",
    "\n",
    "student_incomes = pd.ExcelFile('../data/mean-median-student-income.xlsx').parse('Columbia')\n",
    "inflation_ratios = student_incomes[['year', 'inflation ratio']]"
   ]
  },
  {
   "cell_type": "markdown",
   "metadata": {},
   "source": [
    "## Median US Income"
   ]
  },
  {
   "cell_type": "code",
   "execution_count": 3,
   "metadata": {},
   "outputs": [],
   "source": [
    "# Median income in 2018 dollars for US\n",
    "columnRenames = {\n",
    "    'Year': 'year',\n",
    "    'Median Income \\n(in 2018 dollars)': 'income',\n",
    "    'private (2018 dollars)': 'cost'\n",
    "}\n",
    "national_data_df = total_costs.parse('US Trends').rename(\n",
    "    columns=columnRenames\n",
    ")[columnRenames.values()]"
   ]
  },
  {
   "cell_type": "code",
   "execution_count": 4,
   "metadata": {
    "scrolled": false
   },
   "outputs": [],
   "source": [
    "national_data = []\n",
    "for _, row in national_data_df.iterrows():\n",
    "    d = {}\n",
    "    for k in ['year', 'income', 'cost']:\n",
    "        val = float(row[k]) if k == 'cost' else int(row[k])\n",
    "        if np.isnan(val):\n",
    "            continue\n",
    "        d[k]= val\n",
    "    national_data.append(d)\n",
    "national_data = sorted(national_data, key=lambda d: d['year'])"
   ]
  },
  {
   "cell_type": "markdown",
   "metadata": {},
   "source": [
    "## Get total costs for Ivies\n",
    "**Right now unadjusted for inflation**"
   ]
  },
  {
   "cell_type": "code",
   "execution_count": 5,
   "metadata": {
    "scrolled": true
   },
   "outputs": [
    {
     "data": {
      "text/plain": [
       "[{'school': 'Columbia',\n",
       "  'data': [{'year': 2003, 'cost': 40140},\n",
       "   {'year': 2004, 'cost': 42598},\n",
       "   {'year': 2005, 'cost': 44646},\n",
       "   {'year': 2006, 'cost': 46874},\n",
       "   {'year': 2007, 'cost': 49260},\n",
       "   {'year': 2008, 'cost': 51406},\n",
       "   {'year': 2009, 'cost': 54294},\n",
       "   {'year': 2010, 'cost': 56681},\n",
       "   {'year': 2011, 'cost': 59208},\n",
       "   {'year': 2012, 'cost': 61540},\n",
       "   {'year': 2013, 'cost': 64144},\n",
       "   {'year': 2014, 'cost': 66604},\n",
       "   {'year': 2015, 'cost': 69084},\n",
       "   {'year': 2016, 'cost': 71785},\n",
       "   {'year': 2017, 'cost': 74199},\n",
       "   {'year': 2018, 'cost': 76856}]},\n",
       " {'school': 'Brown',\n",
       "  'data': [{'year': 2003, 'cost': 39602},\n",
       "   {'year': 2004, 'cost': 41538},\n",
       "   {'year': 2005, 'cost': 44280},\n",
       "   {'year': 2006, 'cost': 46340},\n",
       "   {'year': 2007, 'cost': 48660},\n",
       "   {'year': 2008, 'cost': 50560},\n",
       "   {'year': 2009, 'cost': 52030},\n",
       "   {'year': 2010, 'cost': 54370},\n",
       "   {'year': 2011, 'cost': 56150},\n",
       "   {'year': 2012, 'cost': 58140},\n",
       "   {'year': 2013, 'cost': 60460},\n",
       "   {'year': 2014, 'cost': 62694},\n",
       "   {'year': 2015, 'cost': 65380},\n",
       "   {'year': 2016, 'cost': 68106},\n",
       "   {'year': 2017, 'cost': 71050},\n",
       "   {'year': 2018, 'cost': 73802}]},\n",
       " {'school': 'Cornell',\n",
       "  'data': [{'year': 2003, 'cost': 40274},\n",
       "   {'year': 2004, 'cost': 42049},\n",
       "   {'year': 2005, 'cost': 43827},\n",
       "   {'year': 2006, 'cost': 45877},\n",
       "   {'year': 2007, 'cost': 48151},\n",
       "   {'year': 2008, 'cost': 50384},\n",
       "   {'year': 2009, 'cost': 52414},\n",
       "   {'year': 2010, 'cost': 54676},\n",
       "   {'year': 2011, 'cost': 57125},\n",
       "   {'year': 2012, 'cost': 59591},\n",
       "   {'year': 2013, 'cost': 61618},\n",
       "   {'year': 2014, 'cost': 63606},\n",
       "   {'year': 2015, 'cost': 65494},\n",
       "   {'year': 2016, 'cost': 67613},\n",
       "   {'year': 2017, 'cost': 70321},\n",
       "   {'year': 2018, 'cost': 73904}]},\n",
       " {'school': 'Dartmouth',\n",
       "  'data': [{'year': 2003, 'cost': 39889},\n",
       "   {'year': 2004, 'cost': 41851},\n",
       "   {'year': 2005, 'cost': 43679},\n",
       "   {'year': 2006, 'cost': 45963},\n",
       "   {'year': 2007, 'cost': 48236},\n",
       "   {'year': 2008, 'cost': 50547},\n",
       "   {'year': 2009, 'cost': 52973},\n",
       "   {'year': 2010, 'cost': 55386},\n",
       "   {'year': 2011, 'cost': 58638},\n",
       "   {'year': 2012, 'cost': 61398},\n",
       "   {'year': 2013, 'cost': 63279},\n",
       "   {'year': 2014, 'cost': 65133},\n",
       "   {'year': 2015, 'cost': 67044},\n",
       "   {'year': 2016, 'cost': 69474},\n",
       "   {'year': 2017, 'cost': 71827},\n",
       "   {'year': 2018, 'cost': 74359}]},\n",
       " {'school': 'Harvard',\n",
       "  'data': [{'year': 2003, 'cost': 40450},\n",
       "   {'year': 2004, 'cost': 42450},\n",
       "   {'year': 2005, 'cost': 44350},\n",
       "   {'year': 2006, 'cost': 46450},\n",
       "   {'year': 2007, 'cost': 48550},\n",
       "   {'year': 2008, 'cost': 50250},\n",
       "   {'year': 2009, 'cost': 52000},\n",
       "   {'year': 2010, 'cost': 53950},\n",
       "   {'year': 2011, 'cost': 56000},\n",
       "   {'year': 2012, 'cost': 57050},\n",
       "   {'year': 2013, 'cost': 59950},\n",
       "   {'year': 2014, 'cost': 62250},\n",
       "   {'year': 2015, 'cost': 64400},\n",
       "   {'year': 2016, 'cost': 66900},\n",
       "   {'year': 2017, 'cost': 69600},\n",
       "   {'year': 2018, 'cost': 71650}]},\n",
       " {'school': 'Princeton',\n",
       "  'data': [{'year': 2003, 'cost': 40170},\n",
       "   {'year': 2004, 'cost': 41910},\n",
       "   {'year': 2005, 'cost': 43826},\n",
       "   {'year': 2006, 'cost': 46080},\n",
       "   {'year': 2007, 'cost': 47975},\n",
       "   {'year': 2008, 'cost': 49830},\n",
       "   {'year': 2009, 'cost': 51260},\n",
       "   {'year': 2010, 'cost': 52715},\n",
       "   {'year': 2011, 'cost': 53934},\n",
       "   {'year': 2012, 'cost': 54780},\n",
       "   {'year': 2013, 'cost': 55832},\n",
       "   {'year': 2014, 'cost': 58965},\n",
       "   {'year': 2015, 'cost': 61160},\n",
       "   {'year': 2016, 'cost': 63690},\n",
       "   {'year': 2017, 'cost': 66150},\n",
       "   {'year': 2018, 'cost': 70900}]},\n",
       " {'school': 'UPenn',\n",
       "  'data': [{'year': 2003, 'cost': 40370},\n",
       "   {'year': 2004, 'cost': 42100},\n",
       "   {'year': 2005, 'cost': 44300},\n",
       "   {'year': 2006, 'cost': 46580},\n",
       "   {'year': 2007, 'cost': 49080},\n",
       "   {'year': 2008, 'cost': 51299},\n",
       "   {'year': 2009, 'cost': 53250},\n",
       "   {'year': 2010, 'cost': 55250},\n",
       "   {'year': 2011, 'cost': 57360},\n",
       "   {'year': 2012, 'cost': 59600},\n",
       "   {'year': 2013, 'cost': 61800},\n",
       "   {'year': 2014, 'cost': 64200},\n",
       "   {'year': 2015, 'cost': 66800},\n",
       "   {'year': 2016, 'cost': 69340},\n",
       "   {'year': 2017, 'cost': 71715},\n",
       "   {'year': 2018, 'cost': 74408}]},\n",
       " {'school': 'Yale',\n",
       "  'data': [{'year': 2003, 'cost': 41720},\n",
       "   {'year': 2004, 'cost': 41970},\n",
       "   {'year': 2005, 'cost': 44200},\n",
       "   {'year': 2006, 'cost': 48250},\n",
       "   {'year': 2007, 'cost': 50350},\n",
       "   {'year': 2008, 'cost': 51400},\n",
       "   {'year': 2009, 'cost': 52950},\n",
       "   {'year': 2010, 'cost': 55300},\n",
       "   {'year': 2011, 'cost': 58250},\n",
       "   {'year': 2012, 'cost': 59320},\n",
       "   {'year': 2013, 'cost': 61620},\n",
       "   {'year': 2014, 'cost': 63970},\n",
       "   {'year': 2015, 'cost': 66445},\n",
       "   {'year': 2016, 'cost': 68950},\n",
       "   {'year': 2017, 'cost': 71290},\n",
       "   {'year': 2018, 'cost': 73900}]}]"
      ]
     },
     "execution_count": 5,
     "metadata": {},
     "output_type": "execute_result"
    }
   ],
   "source": [
    "# The names of sheets in the excel file\n",
    "ivies = ['Columbia', 'Brown', 'Cornell', 'Dartmouth', 'Harvard', 'Princeton', 'UPenn', 'Yale']\n",
    "\n",
    "# Flatten the dataframes to: [ { school, year, cost } ]\n",
    "school_costs = []\n",
    "for ivy in ivies:\n",
    "    sheet = total_costs.parse(ivy).rename(columns={'School Year (start)': 'year', 'School Year': 'year'})\n",
    "    school_costs.append({\n",
    "        'school': ivy,\n",
    "        'data': sorted([\n",
    "            {'year': int(row['year']), 'cost': int(row['total cost'])}\n",
    "            for _, row in sheet[['year', 'total cost']].iterrows()\n",
    "        ], key=lambda d: d['year'])\n",
    "    })\n",
    "'''\n",
    "school_costs = {'series': []}\n",
    "for ivy in ivies:\n",
    "    sheet = total_costs.parse(ivy).rename(columns={'School Year (start)': 'year', 'School Year': 'year'})\n",
    "    school_costs['years'] = [int(row['year'])\n",
    "            for _, row in sheet[['year', 'total cost']].iterrows()]\n",
    "    school_costs['series'].append({\n",
    "        'school': ivy,\n",
    "        'values': [int(row['total cost'])\n",
    "            for _, row in sheet[['year', 'total cost']].iterrows()],\n",
    "    })\n",
    "'''\n",
    "school_costs"
   ]
  },
  {
   "cell_type": "markdown",
   "metadata": {},
   "source": [
    "## Generate outputs"
   ]
  },
  {
   "cell_type": "code",
   "execution_count": 7,
   "metadata": {},
   "outputs": [],
   "source": [
    "# writing outputs…\n",
    "with open('../outputs/school-costs.json', 'w') as f:\n",
    "    json.dump(school_costs, f)\n",
    "with open('../outputs/us_incomes.json', 'w') as f:\n",
    "    json.dump(national_data, f)\n",
    "\n",
    "# …but also  directly writing to the recession finaid repo lol\n",
    "with open('../../recession-financial-aid/data/school-costs.json', 'w') as f:\n",
    "    json.dump(school_costs, f, indent=2)\n",
    "with open('../../recession-financial-aid/data/national-data.json', 'w') as f:\n",
    "    json.dump(national_data, f, indent=2)"
   ]
  }
 ],
 "metadata": {
  "kernelspec": {
   "display_name": "Python 3",
   "language": "python",
   "name": "python3"
  },
  "language_info": {
   "codemirror_mode": {
    "name": "ipython",
    "version": 3
   },
   "file_extension": ".py",
   "mimetype": "text/x-python",
   "name": "python",
   "nbconvert_exporter": "python",
   "pygments_lexer": "ipython3",
   "version": "3.7.7"
  }
 },
 "nbformat": 4,
 "nbformat_minor": 4
}
