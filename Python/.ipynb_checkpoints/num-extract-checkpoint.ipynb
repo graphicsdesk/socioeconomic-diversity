{
 "cells": [
  {
   "cell_type": "code",
   "execution_count": 1,
   "metadata": {},
   "outputs": [],
   "source": [
    "import pandas as pd\n",
    "import numpy as np"
   ]
  },
  {
   "cell_type": "code",
   "execution_count": 3,
   "metadata": {},
   "outputs": [],
   "source": [
    "ivies = ['Columbia University in the City of New York', 'Harvard University','Princeton University',\n",
    "        'Yale University', 'University of Pennsylvania', 'Cornell University', 'Dartmouth College','Brown University']"
   ]
  },
  {
   "cell_type": "code",
   "execution_count": null,
   "metadata": {},
   "outputs": [],
   "source": [
    "df96 = pd.read_csv('MERGED1996_97_PP.csv')\n",
    "df97 = pd.read_csv('MERGED1997_98_PP.csv')\n",
    "df98 = pd.read_csv('MERGED1998_99_PP.csv')\n",
    "df99 = pd.read_csv('MERGED1999_00_PP.csv')\n",
    "df00 = pd.read_csv('MERGED2000_01_PP.csv')\n",
    "df01 = pd.read_csv('MERGED2001_02_PP.csv')\n",
    "df02 = pd.read_csv('MERGED2002_03_PP.csv')\n",
    "df03 = pd.read_csv('MERGED2003_04_PP.csv')\n",
    "df04 = pd.read_csv('MERGED2004_05_PP.csv')\n",
    "df05 = pd.read_csv('MERGED2005_06_PP.csv')\n",
    "df06 = pd.read_csv('MERGED2006_07_PP.csv')\n",
    "df07 = pd.read_csv('MERGED2007_08_PP.csv')\n",
    "df08 = pd.read_csv('MERGED2008_09_PP.csv')\n",
    "df09 = pd.read_csv('MERGED2009_10_PP.csv')\n",
    "df10 = pd.read_csv('MERGED2010_11_PP.csv')\n",
    "df11 = pd.read_csv('MERGED2011_12_PP.csv')\n",
    "df12 = pd.read_csv('MERGED2012_13_PP.csv')\n",
    "df13 = pd.read_csv('MERGED2013_14_PP.csv')\n",
    "df14 = pd.read_csv('MERGED2014_15_PP.csv')\n",
    "df15 = pd.read_csv('MERGED2015_16_PP.csv')\n",
    "df16 = pd.read_csv('MERGED2016_17_PP.csv')\n",
    "df17 = pd.read_csv('MERGED2017_18_PP.csv')\n",
    "df18 = pd.read_csv('MERGED2018_19_PP.csv')\n"
   ]
  },
  {
   "cell_type": "code",
   "execution_count": null,
   "metadata": {},
   "outputs": [],
   "source": []
  },
  {
   "cell_type": "code",
   "execution_count": null,
   "metadata": {},
   "outputs": [],
   "source": []
  },
  {
   "cell_type": "code",
   "execution_count": null,
   "metadata": {},
   "outputs": [],
   "source": []
  },
  {
   "cell_type": "code",
   "execution_count": null,
   "metadata": {},
   "outputs": [],
   "source": []
  },
  {
   "cell_type": "code",
   "execution_count": null,
   "metadata": {},
   "outputs": [],
   "source": []
  }
 ],
 "metadata": {
  "kernelspec": {
   "display_name": "Python 3",
   "language": "python",
   "name": "python3"
  },
  "language_info": {
   "codemirror_mode": {
    "name": "ipython",
    "version": 3
   },
   "file_extension": ".py",
   "mimetype": "text/x-python",
   "name": "python",
   "nbconvert_exporter": "python",
   "pygments_lexer": "ipython3",
   "version": "3.7.4"
  }
 },
 "nbformat": 4,
 "nbformat_minor": 2
}
