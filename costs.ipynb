{
 "cells": [
  {
   "cell_type": "code",
   "execution_count": 1,
   "metadata": {},
   "outputs": [],
   "source": [
    "import pandas as pd"
   ]
  },
  {
   "cell_type": "code",
   "execution_count": 20,
   "metadata": {},
   "outputs": [],
   "source": [
    "total_costs = pd.ExcelFile('./data/data-consolidated.xlsx')\n",
    "\n",
    "student_incomes = pd.ExcelFile('./data/mean-median-student-income.xlsx').parse('Columbia')\n",
    "inflation_ratios = student_incomes[['year', 'inflation ratio']]"
   ]
  },
  {
   "cell_type": "markdown",
   "metadata": {},
   "source": [
    "## Income stuff"
   ]
  },
  {
   "cell_type": "code",
   "execution_count": 44,
   "metadata": {},
   "outputs": [],
   "source": [
    "# Median income in 2018 dollars for US and Columbia\n",
    "us_income = total_costs.parse('US Trends').rename(\n",
    "    columns={'Year': 'year', 'Median Income \\n(in 2018 dollars)': 'income'}\n",
    ")[[ 'year', 'income' ]]\n",
    "columbia_income = student_incomes.rename(columns={'median - 2018 $': 'income'})[[ 'year', 'income' ]]"
   ]
  },
  {
   "cell_type": "code",
   "execution_count": 63,
   "metadata": {
    "scrolled": true
   },
   "outputs": [
    {
     "data": {
      "text/plain": [
       "[{'entity': 'United States', 'year': 2018, 'income': 63572},\n",
       " {'entity': 'United States', 'year': 2017, 'income': 62846},\n",
       " {'entity': 'United States', 'year': 2016, 'income': 61894},\n",
       " {'entity': 'United States', 'year': 2015, 'income': 60236},\n",
       " {'entity': 'United States', 'year': 2014, 'income': 57377},\n",
       " {'entity': 'United States', 'year': 2013, 'income': 56492},\n",
       " {'entity': 'United States', 'year': 2012, 'income': 56077},\n",
       " {'entity': 'United States', 'year': 2011, 'income': 55769},\n",
       " {'entity': 'United States', 'year': 2010, 'income': 56748},\n",
       " {'entity': 'United States', 'year': 2009, 'income': 58115},\n",
       " {'entity': 'United States', 'year': 2008, 'income': 58611},\n",
       " {'entity': 'United States', 'year': 2007, 'income': 60664},\n",
       " {'entity': 'United States', 'year': 2006, 'income': 60205},\n",
       " {'entity': 'United States', 'year': 2005, 'income': 59679},\n",
       " {'entity': 'United States', 'year': 2004, 'income': 59182},\n",
       " {'entity': 'United States', 'year': 2003, 'income': 59655},\n",
       " {'entity': 'United States', 'year': 2002, 'income': 59909},\n",
       " {'entity': 'United States', 'year': 2001, 'income': 60608},\n",
       " {'entity': 'United States', 'year': 2000, 'income': 61755},\n",
       " {'entity': 'Columbia', 'year': 1997, 'income': 37312},\n",
       " {'entity': 'Columbia', 'year': 1998, 'income': 34698},\n",
       " {'entity': 'Columbia', 'year': 1999, 'income': 43313},\n",
       " {'entity': 'Columbia', 'year': 2000, 'income': 46383},\n",
       " {'entity': 'Columbia', 'year': 2001, 'income': 42620},\n",
       " {'entity': 'Columbia', 'year': 2002, 'income': 42797},\n",
       " {'entity': 'Columbia', 'year': 2003, 'income': 37491},\n",
       " {'entity': 'Columbia', 'year': 2004, 'income': 32125},\n",
       " {'entity': 'Columbia', 'year': 2005, 'income': 31224},\n",
       " {'entity': 'Columbia', 'year': 2006, 'income': 32324},\n",
       " {'entity': 'Columbia', 'year': 2007, 'income': 31235},\n",
       " {'entity': 'Columbia', 'year': 2008, 'income': 33713},\n",
       " {'entity': 'Columbia', 'year': 2009, 'income': 39442},\n",
       " {'entity': 'Columbia', 'year': 2010, 'income': 41515},\n",
       " {'entity': 'Columbia', 'year': 2011, 'income': 37203},\n",
       " {'entity': 'Columbia', 'year': 2012, 'income': 34023},\n",
       " {'entity': 'Columbia', 'year': 2013, 'income': 34421},\n",
       " {'entity': 'Columbia', 'year': 2014, 'income': 34614},\n",
       " {'entity': 'Columbia', 'year': 2015, 'income': 33562},\n",
       " {'entity': 'Columbia', 'year': 2016, 'income': 32380}]"
      ]
     },
     "execution_count": 63,
     "metadata": {},
     "output_type": "execute_result"
    }
   ],
   "source": [
    "entity_incomes = [\n",
    "    {'entity': 'United States', 'year': int(row['year']), 'income': int(row['income'])}\n",
    "    for _, row in us_income.iterrows()\n",
    "] + [\n",
    "    {'entity': 'Columbia', 'year': int(row['year']), 'income': int(round(row['income']))}\n",
    "    for _, row in columbia_income.iterrows()\n",
    "]\n",
    "entity_incomes"
   ]
  },
  {
   "cell_type": "markdown",
   "metadata": {},
   "source": [
    "## Get total costs for Ivies\n",
    "**Right now unadjusted for inflation**"
   ]
  },
  {
   "cell_type": "code",
   "execution_count": 64,
   "metadata": {
    "scrolled": true
   },
   "outputs": [
    {
     "data": {
      "text/plain": [
       "[{'school': 'Columbia', 'year': 2018, 'cost': 76856},\n",
       " {'school': 'Columbia', 'year': 2017, 'cost': 74199},\n",
       " {'school': 'Columbia', 'year': 2016, 'cost': 71785},\n",
       " {'school': 'Columbia', 'year': 2015, 'cost': 69084},\n",
       " {'school': 'Columbia', 'year': 2014, 'cost': 66604},\n",
       " {'school': 'Columbia', 'year': 2013, 'cost': 64144},\n",
       " {'school': 'Columbia', 'year': 2012, 'cost': 61540},\n",
       " {'school': 'Columbia', 'year': 2011, 'cost': 59208},\n",
       " {'school': 'Columbia', 'year': 2010, 'cost': 56681},\n",
       " {'school': 'Columbia', 'year': 2009, 'cost': 54294},\n",
       " {'school': 'Columbia', 'year': 2008, 'cost': 51406},\n",
       " {'school': 'Columbia', 'year': 2007, 'cost': 49260},\n",
       " {'school': 'Columbia', 'year': 2006, 'cost': 46874},\n",
       " {'school': 'Columbia', 'year': 2005, 'cost': 44646},\n",
       " {'school': 'Columbia', 'year': 2004, 'cost': 42598},\n",
       " {'school': 'Columbia', 'year': 2003, 'cost': 40140},\n",
       " {'school': 'Brown', 'year': 2018, 'cost': 73802},\n",
       " {'school': 'Brown', 'year': 2017, 'cost': 71050},\n",
       " {'school': 'Brown', 'year': 2016, 'cost': 68106},\n",
       " {'school': 'Brown', 'year': 2015, 'cost': 65380},\n",
       " {'school': 'Brown', 'year': 2014, 'cost': 62694},\n",
       " {'school': 'Brown', 'year': 2013, 'cost': 60460},\n",
       " {'school': 'Brown', 'year': 2012, 'cost': 58140},\n",
       " {'school': 'Brown', 'year': 2011, 'cost': 56150},\n",
       " {'school': 'Brown', 'year': 2010, 'cost': 54370},\n",
       " {'school': 'Brown', 'year': 2009, 'cost': 52030},\n",
       " {'school': 'Brown', 'year': 2008, 'cost': 50560},\n",
       " {'school': 'Brown', 'year': 2007, 'cost': 48660},\n",
       " {'school': 'Brown', 'year': 2006, 'cost': 46340},\n",
       " {'school': 'Brown', 'year': 2005, 'cost': 44280},\n",
       " {'school': 'Brown', 'year': 2004, 'cost': 41538},\n",
       " {'school': 'Brown', 'year': 2003, 'cost': 39602},\n",
       " {'school': 'Cornell', 'year': 2018, 'cost': 73904},\n",
       " {'school': 'Cornell', 'year': 2017, 'cost': 70321},\n",
       " {'school': 'Cornell', 'year': 2016, 'cost': 67613},\n",
       " {'school': 'Cornell', 'year': 2015, 'cost': 65494},\n",
       " {'school': 'Cornell', 'year': 2014, 'cost': 63606},\n",
       " {'school': 'Cornell', 'year': 2013, 'cost': 61618},\n",
       " {'school': 'Cornell', 'year': 2012, 'cost': 59591},\n",
       " {'school': 'Cornell', 'year': 2011, 'cost': 57125},\n",
       " {'school': 'Cornell', 'year': 2010, 'cost': 54676},\n",
       " {'school': 'Cornell', 'year': 2009, 'cost': 52414},\n",
       " {'school': 'Cornell', 'year': 2008, 'cost': 50384},\n",
       " {'school': 'Cornell', 'year': 2007, 'cost': 48151},\n",
       " {'school': 'Cornell', 'year': 2006, 'cost': 45877},\n",
       " {'school': 'Cornell', 'year': 2005, 'cost': 43827},\n",
       " {'school': 'Cornell', 'year': 2004, 'cost': 42049},\n",
       " {'school': 'Cornell', 'year': 2003, 'cost': 40274},\n",
       " {'school': 'Dartmouth', 'year': 2018, 'cost': 74359},\n",
       " {'school': 'Dartmouth', 'year': 2017, 'cost': 71827},\n",
       " {'school': 'Dartmouth', 'year': 2016, 'cost': 69474},\n",
       " {'school': 'Dartmouth', 'year': 2015, 'cost': 67044},\n",
       " {'school': 'Dartmouth', 'year': 2014, 'cost': 65133},\n",
       " {'school': 'Dartmouth', 'year': 2013, 'cost': 63279},\n",
       " {'school': 'Dartmouth', 'year': 2012, 'cost': 61398},\n",
       " {'school': 'Dartmouth', 'year': 2011, 'cost': 58638},\n",
       " {'school': 'Dartmouth', 'year': 2010, 'cost': 55386},\n",
       " {'school': 'Dartmouth', 'year': 2009, 'cost': 52973},\n",
       " {'school': 'Dartmouth', 'year': 2008, 'cost': 50547},\n",
       " {'school': 'Dartmouth', 'year': 2007, 'cost': 48236},\n",
       " {'school': 'Dartmouth', 'year': 2006, 'cost': 45963},\n",
       " {'school': 'Dartmouth', 'year': 2005, 'cost': 43679},\n",
       " {'school': 'Dartmouth', 'year': 2004, 'cost': 41851},\n",
       " {'school': 'Dartmouth', 'year': 2003, 'cost': 39889},\n",
       " {'school': 'Harvard', 'year': 2018, 'cost': 71650},\n",
       " {'school': 'Harvard', 'year': 2017, 'cost': 69600},\n",
       " {'school': 'Harvard', 'year': 2016, 'cost': 66900},\n",
       " {'school': 'Harvard', 'year': 2015, 'cost': 64400},\n",
       " {'school': 'Harvard', 'year': 2014, 'cost': 62250},\n",
       " {'school': 'Harvard', 'year': 2013, 'cost': 59950},\n",
       " {'school': 'Harvard', 'year': 2012, 'cost': 57050},\n",
       " {'school': 'Harvard', 'year': 2011, 'cost': 56000},\n",
       " {'school': 'Harvard', 'year': 2010, 'cost': 53950},\n",
       " {'school': 'Harvard', 'year': 2009, 'cost': 52000},\n",
       " {'school': 'Harvard', 'year': 2008, 'cost': 50250},\n",
       " {'school': 'Harvard', 'year': 2007, 'cost': 48550},\n",
       " {'school': 'Harvard', 'year': 2006, 'cost': 46450},\n",
       " {'school': 'Harvard', 'year': 2005, 'cost': 44350},\n",
       " {'school': 'Harvard', 'year': 2004, 'cost': 42450},\n",
       " {'school': 'Harvard', 'year': 2003, 'cost': 40450},\n",
       " {'school': 'Princeton', 'year': 2018, 'cost': 70900},\n",
       " {'school': 'Princeton', 'year': 2017, 'cost': 66150},\n",
       " {'school': 'Princeton', 'year': 2016, 'cost': 63690},\n",
       " {'school': 'Princeton', 'year': 2015, 'cost': 61160},\n",
       " {'school': 'Princeton', 'year': 2014, 'cost': 58965},\n",
       " {'school': 'Princeton', 'year': 2013, 'cost': 55832},\n",
       " {'school': 'Princeton', 'year': 2012, 'cost': 54780},\n",
       " {'school': 'Princeton', 'year': 2011, 'cost': 53934},\n",
       " {'school': 'Princeton', 'year': 2010, 'cost': 52715},\n",
       " {'school': 'Princeton', 'year': 2009, 'cost': 51260},\n",
       " {'school': 'Princeton', 'year': 2008, 'cost': 49830},\n",
       " {'school': 'Princeton', 'year': 2007, 'cost': 47975},\n",
       " {'school': 'Princeton', 'year': 2006, 'cost': 46080},\n",
       " {'school': 'Princeton', 'year': 2005, 'cost': 43826},\n",
       " {'school': 'Princeton', 'year': 2004, 'cost': 41910},\n",
       " {'school': 'Princeton', 'year': 2003, 'cost': 40170},\n",
       " {'school': 'UPenn', 'year': 2018, 'cost': 74408},\n",
       " {'school': 'UPenn', 'year': 2017, 'cost': 71715},\n",
       " {'school': 'UPenn', 'year': 2016, 'cost': 69340},\n",
       " {'school': 'UPenn', 'year': 2015, 'cost': 66800},\n",
       " {'school': 'UPenn', 'year': 2014, 'cost': 64200},\n",
       " {'school': 'UPenn', 'year': 2013, 'cost': 61800},\n",
       " {'school': 'UPenn', 'year': 2012, 'cost': 59600},\n",
       " {'school': 'UPenn', 'year': 2011, 'cost': 57360},\n",
       " {'school': 'UPenn', 'year': 2010, 'cost': 55250},\n",
       " {'school': 'UPenn', 'year': 2009, 'cost': 53250},\n",
       " {'school': 'UPenn', 'year': 2008, 'cost': 51299},\n",
       " {'school': 'UPenn', 'year': 2007, 'cost': 49080},\n",
       " {'school': 'UPenn', 'year': 2006, 'cost': 46580},\n",
       " {'school': 'UPenn', 'year': 2005, 'cost': 44300},\n",
       " {'school': 'UPenn', 'year': 2004, 'cost': 42100},\n",
       " {'school': 'UPenn', 'year': 2003, 'cost': 40370},\n",
       " {'school': 'Yale', 'year': 2018, 'cost': 73900},\n",
       " {'school': 'Yale', 'year': 2017, 'cost': 71290},\n",
       " {'school': 'Yale', 'year': 2016, 'cost': 68950},\n",
       " {'school': 'Yale', 'year': 2015, 'cost': 66445},\n",
       " {'school': 'Yale', 'year': 2014, 'cost': 63970},\n",
       " {'school': 'Yale', 'year': 2013, 'cost': 61620},\n",
       " {'school': 'Yale', 'year': 2012, 'cost': 59320},\n",
       " {'school': 'Yale', 'year': 2011, 'cost': 58250},\n",
       " {'school': 'Yale', 'year': 2010, 'cost': 55300},\n",
       " {'school': 'Yale', 'year': 2009, 'cost': 52950},\n",
       " {'school': 'Yale', 'year': 2008, 'cost': 51400},\n",
       " {'school': 'Yale', 'year': 2007, 'cost': 50350},\n",
       " {'school': 'Yale', 'year': 2006, 'cost': 48250},\n",
       " {'school': 'Yale', 'year': 2005, 'cost': 44200},\n",
       " {'school': 'Yale', 'year': 2004, 'cost': 41970},\n",
       " {'school': 'Yale', 'year': 2003, 'cost': 41720}]"
      ]
     },
     "execution_count": 64,
     "metadata": {},
     "output_type": "execute_result"
    }
   ],
   "source": [
    "# The names of sheets in the excel file\n",
    "ivies = ['Columbia', 'Brown', 'Cornell', 'Dartmouth', 'Harvard', 'Princeton', 'UPenn', 'Yale']\n",
    "\n",
    "# Flatten the dataframes to: [ { school, year, cost } ]\n",
    "school_costs = []\n",
    "for ivy in ivies:\n",
    "    sheet = total_costs.parse(ivy).rename(columns={'School Year (start)': 'year', 'School Year': 'year'})\n",
    "    school_costs += [\n",
    "        {'school': ivy, 'year': int(row['year']), 'cost': int(row['total cost'])}\n",
    "        for _, row in sheet[['year', 'total cost']].iterrows()\n",
    "    ]\n",
    "school_costs"
   ]
  },
  {
   "cell_type": "markdown",
   "metadata": {},
   "source": [
    "## Generate outputs"
   ]
  },
  {
   "cell_type": "code",
   "execution_count": 67,
   "metadata": {},
   "outputs": [],
   "source": [
    "import json\n",
    "\n",
    "with open('./outputs/school-costs.json', 'w') as f:\n",
    "    json.dump(school_costs, f)\n",
    "with open('./outputs/incomes.json', 'w') as f:\n",
    "    json.dump(entity_incomes, f)"
   ]
  }
 ],
 "metadata": {
  "kernelspec": {
   "display_name": "Python 3",
   "language": "python",
   "name": "python3"
  },
  "language_info": {
   "codemirror_mode": {
    "name": "ipython",
    "version": 3
   },
   "file_extension": ".py",
   "mimetype": "text/x-python",
   "name": "python",
   "nbconvert_exporter": "python",
   "pygments_lexer": "ipython3",
   "version": "3.7.7"
  }
 },
 "nbformat": 4,
 "nbformat_minor": 4
}
